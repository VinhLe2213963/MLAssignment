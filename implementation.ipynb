{
  "cells": [
    {
      "cell_type": "code",
      "execution_count": null,
      "metadata": {
        "id": "4E6hORlvRA5X"
      },
      "outputs": [],
      "source": [
        "# import the necessary library\n",
        "from sklearn.datasets import fetch_openml\n",
        "from sklearn.decomposition import PCA\n",
        "import numpy as np\n",
        "from sklearn.linear_model import LogisticRegression\n",
        "from sklearn.metrics import accuracy_score\n",
        "from sklearn.pipeline import make_pipeline, Pipeline\n",
        "from sklearn.preprocessing import MinMaxScaler, StandardScaler\n",
        "import matplotlib.pyplot as plt\n",
        "from sklearn.cluster import KMeans\n",
        "from sklearn.svm import SVC\n",
        "from sklearn.model_selection import train_test_split, GridSearchCV\n"
      ]
    },
    {
      "cell_type": "code",
      "execution_count": null,
      "metadata": {
        "id": "38qcZroWQr6G"
      },
      "outputs": [],
      "source": [
        "# get the MNIST dataset\n",
        "mnist = fetch_openml('mnist_784', as_frame=False)\n",
        "X_train, y_train = mnist.data[:60000], mnist.target[:60000]\n",
        "X_test, y_test = mnist.data[60000:], mnist.target[60000:]"
      ]
    },
    {
      "cell_type": "markdown",
      "metadata": {
        "id": "LtRvy8ZbTDR8"
      },
      "source": [
        "# Logistic Regression"
      ]
    },
    {
      "cell_type": "code",
      "execution_count": null,
      "metadata": {
        "colab": {
          "base_uri": "https://localhost:8080/"
        },
        "id": "RI9OkzbYR-69",
        "outputId": "4fc67670-c529-4ceb-ad42-8789c89313b7"
      },
      "outputs": [
        {
          "name": "stdout",
          "output_type": "stream",
          "text": [
            "Accuracy: 0.9214\n"
          ]
        }
      ],
      "source": [
        "log_reg = LogisticRegression(random_state=42, max_iter=100000, solver='saga')\n",
        "log_reg.fit(X_train, y_train)\n",
        "y_pred = log_reg.predict(X_test)\n",
        "accuracy = accuracy_score(y_test, y_pred)\n",
        "print(f\"Accuracy: {accuracy:.4f}\")"
      ]
    },
    {
      "cell_type": "code",
      "execution_count": null,
      "metadata": {
        "colab": {
          "base_uri": "https://localhost:8080/"
        },
        "id": "-i617Qu5e2aX",
        "outputId": "c48c6490-3cbb-4f01-d1ca-f84fc432e565"
      },
      "outputs": [
        {
          "name": "stdout",
          "output_type": "stream",
          "text": [
            "Starting GridSearchCV...\n",
            "Fitting 5 folds for each of 7 candidates, totalling 35 fits\n"
          ]
        }
      ],
      "source": [
        "pipe_lr = Pipeline([\n",
        "    ('scaler', MinMaxScaler()),\n",
        "    ('logisticregression', LogisticRegression(random_state=42, solver='saga', max_iter=100000))\n",
        "])\n",
        "\n",
        "param_grid = {\n",
        "    'logisticregression__C': [0.001, 0.01, 0.1, 1, 10, 100, 1000]\n",
        "}\n",
        "\n",
        "grid_search = GridSearchCV(\n",
        "    estimator=pipe_lr,\n",
        "    param_grid=param_grid,\n",
        "    cv=5,\n",
        "    scoring='accuracy',\n",
        "    n_jobs=-1,\n",
        "    verbose=1\n",
        ")\n",
        "\n",
        "print(\"Starting GridSearchCV...\")\n",
        "grid_search.fit(X_train, y_train)\n",
        "print(\"GridSearchCV finished.\")\n",
        "\n",
        "print(f\"Best parameters found: {grid_search.best_params_}\")\n",
        "print(f\"Best cross-validation accuracy score: {grid_search.best_score_:.4f}\")"
      ]
    },
    {
      "cell_type": "code",
      "execution_count": null,
      "metadata": {
        "colab": {
          "base_uri": "https://localhost:8080/"
        },
        "id": "9NzWhQDlTITo",
        "outputId": "eeed95ab-6180-43e0-df04-d0c913fcd73d"
      },
      "outputs": [
        {
          "name": "stdout",
          "output_type": "stream",
          "text": [
            "Accuracy for Logistic Regression without PCA: 0.9258\n"
          ]
        }
      ],
      "source": [
        "# Logistic Regression without PCA\n",
        "default_pipe = make_pipeline(MinMaxScaler(), LogisticRegression(random_state=42, solver='saga', C=0.1))\n",
        "default_pipe.fit(X_train, y_train)\n",
        "y_pred = default_pipe.predict(X_test)\n",
        "accuracy = accuracy_score(y_test, y_pred)\n",
        "print(f\"Accuracy for Logistic Regression without PCA: {accuracy:.4f}\")"
      ]
    },
    {
      "cell_type": "code",
      "execution_count": null,
      "metadata": {
        "colab": {
          "base_uri": "https://localhost:8080/",
          "height": 423
        },
        "id": "d8n_BKdSTp1H",
        "outputId": "703afb5b-95e9-4a77-950d-0bc07344be0a"
      },
      "outputs": [
        {
          "data": {
            "image/png": "[encoded data removed]",
            "text/plain": [
              "<Figure size 640x480 with 1 Axes>"
            ]
          },
          "metadata": {},
          "output_type": "display_data"
        },
        {
          "name": "stdout",
          "output_type": "stream",
          "text": [
            "Predicted Label: 2\n"
          ]
        }
      ],
      "source": [
        "# Test the classifier with an actual instance\n",
        "# Reshape the instance to plot\n",
        "image = X_test[1].reshape(28, 28)\n",
        "\n",
        "# Plot the image\n",
        "plt.imshow(image, cmap=\"gray\")\n",
        "plt.axis(\"off\")\n",
        "plt.show()\n",
        "\n",
        "# Select one instance to predict\n",
        "instance = X_test[1].reshape(1, -1)  # Reshape to keep it 2D for the model\n",
        "\n",
        "# Predict the label\n",
        "predicted_label = default_pipe.predict(instance)\n",
        "\n",
        "print(f\"Predicted Label: {predicted_label[0]}\")"
      ]
    },
    {
      "cell_type": "markdown",
      "metadata": {
        "id": "uPRZTzTIQfzK"
      },
      "source": [
        "# Logistic Regression with Dimensionality Reduction"
      ]
    },
    {
      "cell_type": "code",
      "execution_count": null,
      "metadata": {
        "colab": {
          "base_uri": "https://localhost:8080/",
          "height": 472
        },
        "id": "RPQPpaDRdsrk",
        "outputId": "c9c85ef5-58bf-4cc0-e63c-41d0a2e01e10"
      },
      "outputs": [
        {
          "data": {
            "image/png": "[encoded data removed]",
            "text/plain": [
              "<Figure size 640x480 with 1 Axes>"
            ]
          },
          "metadata": {},
          "output_type": "display_data"
        }
      ],
      "source": [
        "pca = PCA()\n",
        "X_train_pca = pca.fit_transform(X_train)\n",
        "per_var = np.round(pca.explained_variance_ratio_ * 100, decimals=1)\n",
        "labels = ['PC' + str(x) for x in range(1, len(per_var) + 1)]\n",
        "\n",
        "plt.bar(x=range(1, len(per_var) + 1), height=per_var, tick_label=labels)\n",
        "plt.ylabel('Percentage of Explained Variance')\n",
        "plt.xlabel('Principal Component')\n",
        "plt.title('Scree Plot')\n",
        "plt.show()"
      ]
    },
    {
      "cell_type": "code",
      "execution_count": null,
      "metadata": {
        "id": "y0-vFA1zWDBG"
      },
      "outputs": [],
      "source": [
        "# Initialize a PCA and reduce the dimesion of the original dataset\n",
        "pca = PCA(n_components=0.95) # We keep 95% of variance\n",
        "X_train_pca = pca.fit_transform(X_train)\n",
        "X_test_pca = pca.transform(X_test)\n",
        "\n",
        "# Train a classifier (Logistic Regression)\n",
        "pca_clf = LogisticRegression(max_iter=100000, random_state=42, solver='saga')\n",
        "\n",
        "pca_clf.fit(X_train_pca, y_train)\n",
        "\n",
        "# Predict and compute accuracy\n",
        "y_pred = pca_clf.predict(X_test_pca)\n",
        "accuracy = accuracy_score(y_test, y_pred)"
      ]
    },
    {
      "cell_type": "code",
      "execution_count": null,
      "metadata": {
        "colab": {
          "base_uri": "https://localhost:8080/"
        },
        "id": "EBCNXl9BYeTt",
        "outputId": "168f9279-8415-4e32-bc1d-d02f777aeefa"
      },
      "outputs": [
        {
          "name": "stdout",
          "output_type": "stream",
          "text": [
            "Accuracy after PCA with 154 components: 0.9204\n"
          ]
        }
      ],
      "source": [
        "print(f\"Accuracy after PCA with {pca.n_components_} components: {accuracy:.4f}\")"
      ]
    },
    {
      "cell_type": "code",
      "execution_count": null,
      "metadata": {
        "colab": {
          "base_uri": "https://localhost:8080/",
          "height": 423
        },
        "id": "SY1oT3YpOMWt",
        "outputId": "1714dbb5-0ad5-435d-d2e1-a9808a4a482b"
      },
      "outputs": [
        {
          "data": {
            "image/png": "[encoded data removed]",
            "text/plain": [
              "<Figure size 640x480 with 1 Axes>"
            ]
          },
          "metadata": {},
          "output_type": "display_data"
        },
        {
          "name": "stdout",
          "output_type": "stream",
          "text": [
            "Predicted Label: 7\n"
          ]
        }
      ],
      "source": [
        "# Test the classifier with an actual instance\n",
        "# Reshape the instance to plot\n",
        "image = X_test[0].reshape(28, 28)\n",
        "\n",
        "# Plot the image\n",
        "plt.imshow(image, cmap=\"gray\")\n",
        "plt.axis(\"off\")\n",
        "plt.show()\n",
        "\n",
        "# Select one instance to predict\n",
        "instance = X_test_pca[0].reshape(1, -1)  # Reshape to keep it 2D for the model\n",
        "\n",
        "# Predict the label\n",
        "predicted_label = pca_clf.predict(instance)\n",
        "\n",
        "print(f\"Predicted Label: {predicted_label[0]}\")"
      ]
    },
    {
      "cell_type": "markdown",
      "metadata": {
        "id": "NKzKeXf2_QnS"
      },
      "source": [
        "# Support Vector Machine w/ Kernel (GPU Support)"
      ]
    },
    {
      "cell_type": "code",
      "execution_count": null,
      "metadata": {
        "_cell_guid": "b1076dfc-b9ad-4769-8c92-a6c4dae69d19",
        "_uuid": "8f2839f25d086af736a60e9eeb907d3b93b6e0e5",
        "collapsed": true,
        "execution": {
          "iopub.execute_input": "2025-04-20T04:00:22.297568Z",
          "iopub.status.busy": "2025-04-20T04:00:22.297299Z",
          "iopub.status.idle": "2025-04-20T04:03:18.149094Z",
          "shell.execute_reply": "2025-04-20T04:03:18.14782Z",
          "shell.execute_reply.started": "2025-04-20T04:00:22.297539Z"
        },
        "id": "1qsJp0tEgLUd",
        "outputId": "94ffd3f9-a8b0-4cec-e9ac-47cf255d5923",
        "trusted": true
      },
      "outputs": [
        {
          "name": "stdout",
          "output_type": "stream",
          "text": [
            "Hit:1 http://archive.ubuntu.com/ubuntu jammy InRelease\n",
            "Get:2 http://security.ubuntu.com/ubuntu jammy-security InRelease [129 kB]      \n",
            "Get:3 http://archive.ubuntu.com/ubuntu jammy-updates InRelease [128 kB]        \n",
            "Get:4 https://developer.download.nvidia.com/compute/cuda/repos/ubuntu2204/x86_64  InRelease [1,581 B]\n",
            "Get:5 https://cloud.r-project.org/bin/linux/ubuntu jammy-cran40/ InRelease [3,632 B]\n",
            "Get:6 https://r2u.stat.illinois.edu/ubuntu jammy InRelease [6,555 B]           \n",
            "Get:7 http://archive.ubuntu.com/ubuntu jammy-backports InRelease [127 kB]      \n",
            "Get:8 https://developer.download.nvidia.com/compute/cuda/repos/ubuntu2204/x86_64  Packages [1,604 kB]\n",
            "Get:9 https://cloud.r-project.org/bin/linux/ubuntu jammy-cran40/ Packages [73.0 kB]\n",
            "Get:10 https://ppa.launchpadcontent.net/deadsnakes/ppa/ubuntu jammy InRelease [18.1 kB]\n",
            "Get:11 http://security.ubuntu.com/ubuntu jammy-security/universe amd64 Packages [1,243 kB]\n",
            "Get:12 https://ppa.launchpadcontent.net/graphics-drivers/ppa/ubuntu jammy InRelease [24.3 kB]\n",
            "Get:13 https://r2u.stat.illinois.edu/ubuntu jammy/main amd64 Packages [2,694 kB]\n",
            "Get:14 http://security.ubuntu.com/ubuntu jammy-security/main amd64 Packages [2,788 kB]\n",
            "Get:15 http://security.ubuntu.com/ubuntu jammy-security/multiverse amd64 Packages [47.7 kB]\n",
            "Get:16 http://security.ubuntu.com/ubuntu jammy-security/restricted amd64 Packages [4,000 kB]\n",
            "Hit:17 https://ppa.launchpadcontent.net/ubuntugis/ppa/ubuntu jammy InRelease   \n",
            "Get:18 http://archive.ubuntu.com/ubuntu jammy-updates/main amd64 Packages [3,140 kB]\n",
            "Get:19 https://r2u.stat.illinois.edu/ubuntu jammy/main all Packages [8,843 kB] \n",
            "Get:20 http://archive.ubuntu.com/ubuntu jammy-updates/restricted amd64 Packages [4,246 kB]\n",
            "Get:21 http://archive.ubuntu.com/ubuntu jammy-updates/universe amd64 Packages [1,542 kB]\n",
            "Get:22 http://archive.ubuntu.com/ubuntu jammy-updates/multiverse amd64 Packages [55.7 kB]\n",
            "Get:23 http://archive.ubuntu.com/ubuntu jammy-backports/main amd64 Packages [82.7 kB]\n",
            "Get:24 http://archive.ubuntu.com/ubuntu jammy-backports/universe amd64 Packages [35.2 kB]\n",
            "Get:25 https://ppa.launchpadcontent.net/deadsnakes/ppa/ubuntu jammy/main amd64 Packages [34.3 kB]\n",
            "Get:26 https://ppa.launchpadcontent.net/graphics-drivers/ppa/ubuntu jammy/main amd64 Packages [46.8 kB]\n",
            "Fetched 30.9 MB in 3s (11.1 MB/s)                            \n",
            "Reading package lists... Done\n",
            "W: Skipping acquire of configured file 'main/source/Sources' as repository 'https://r2u.stat.illinois.edu/ubuntu jammy InRelease' does not seem to provide it (sources.list entry misspelt?)\n",
            "Reading package lists... Done\n",
            "Building dependency tree... Done\n",
            "Reading state information... Done\n",
            "libx11-dev is already the newest version (2:1.7.5-1ubuntu0.3).\n",
            "libx11-dev set to manually installed.\n",
            "The following additional packages will be installed:\n",
            "  libglx-dev libxfixes-dev libxmu-headers\n",
            "The following NEW packages will be installed:\n",
            "  libgl-dev libglu1-mesa libglx-dev libxfixes-dev libxi-dev libxmu-dev\n",
            "  libxmu-headers\n",
            "0 upgraded, 7 newly installed, 0 to remove and 202 not upgraded.\n",
            "Need to get 575 kB of archives.\n",
            "After this operation, 3,161 kB of additional disk space will be used.\n",
            "Get:1 http://archive.ubuntu.com/ubuntu jammy/main amd64 libglx-dev amd64 1.4.0-1 [14.1 kB]\n",
            "Get:2 http://archive.ubuntu.com/ubuntu jammy/main amd64 libgl-dev amd64 1.4.0-1 [101 kB]\n",
            "Get:3 http://archive.ubuntu.com/ubuntu jammy/main amd64 libxfixes-dev amd64 1:6.0.0-1 [12.2 kB]\n",
            "Get:4 http://archive.ubuntu.com/ubuntu jammy/main amd64 libxi-dev amd64 2:1.8-1build1 [193 kB]\n",
            "Get:5 http://archive.ubuntu.com/ubuntu jammy/main amd64 libxmu-headers all 2:1.1.3-3 [54.1 kB]\n",
            "Get:6 http://archive.ubuntu.com/ubuntu jammy/main amd64 libxmu-dev amd64 2:1.1.3-3 [54.6 kB]\n",
            "Get:7 http://archive.ubuntu.com/ubuntu jammy/main amd64 libglu1-mesa amd64 9.0.2-1 [145 kB]\n",
            "Fetched 575 kB in 1s (682 kB/s)    \n",
            "debconf: unable to initialize frontend: Dialog\n",
            "debconf: (No usable dialog-like program is installed, so the dialog based frontend cannot be used. at /usr/share/perl5/Debconf/FrontEnd/Dialog.pm line 78, <> line 7.)\n",
            "debconf: falling back to frontend: Readline\n",
            "Selecting previously unselected package libglx-dev:amd64.\n",
            "(Reading database ... 127400 files and directories currently installed.)\n",
            "Preparing to unpack .../0-libglx-dev_1.4.0-1_amd64.deb ...\n",
            "Unpacking libglx-dev:amd64 (1.4.0-1) ...\n",
            "Selecting previously unselected package libgl-dev:amd64.\n",
            "Preparing to unpack .../1-libgl-dev_1.4.0-1_amd64.deb ...\n",
            "Unpacking libgl-dev:amd64 (1.4.0-1) ...\n",
            "Selecting previously unselected package libxfixes-dev:amd64.\n",
            "Preparing to unpack .../2-libxfixes-dev_1%3a6.0.0-1_amd64.deb ...\n",
            "Unpacking libxfixes-dev:amd64 (1:6.0.0-1) ...\n",
            "Selecting previously unselected package libxi-dev:amd64.\n",
            "Preparing to unpack .../3-libxi-dev_2%3a1.8-1build1_amd64.deb ...\n",
            "Unpacking libxi-dev:amd64 (2:1.8-1build1) ...\n",
            "Selecting previously unselected package libxmu-headers.\n",
            "Preparing to unpack .../4-libxmu-headers_2%3a1.1.3-3_all.deb ...\n",
            "Unpacking libxmu-headers (2:1.1.3-3) ...\n",
            "Selecting previously unselected package libxmu-dev:amd64.\n",
            "Preparing to unpack .../5-libxmu-dev_2%3a1.1.3-3_amd64.deb ...\n",
            "Unpacking libxmu-dev:amd64 (2:1.1.3-3) ...\n",
            "Selecting previously unselected package libglu1-mesa:amd64.\n",
            "Preparing to unpack .../6-libglu1-mesa_9.0.2-1_amd64.deb ...\n",
            "Unpacking libglu1-mesa:amd64 (9.0.2-1) ...\n",
            "Setting up libxmu-headers (2:1.1.3-3) ...\n",
            "Setting up libxmu-dev:amd64 (2:1.1.3-3) ...\n",
            "Setting up libxfixes-dev:amd64 (1:6.0.0-1) ...\n",
            "Setting up libglx-dev:amd64 (1.4.0-1) ...\n",
            "Setting up libglu1-mesa:amd64 (9.0.2-1) ...\n",
            "Setting up libxi-dev:amd64 (2:1.8-1build1) ...\n",
            "Setting up libgl-dev:amd64 (1.4.0-1) ...\n",
            "Processing triggers for man-db (2.10.2-1) ...\n",
            "Processing triggers for libc-bin (2.35-0ubuntu3.4) ...\n",
            "/sbin/ldconfig.real: /usr/local/lib/libtcm.so.1 is not a symbolic link\n",
            "\n",
            "/sbin/ldconfig.real: /usr/local/lib/libumf.so.0 is not a symbolic link\n",
            "\n",
            "/sbin/ldconfig.real: /usr/local/lib/libtcm_debug.so.1 is not a symbolic link\n",
            "\n",
            "/sbin/ldconfig.real: /usr/local/lib/libhwloc.so.15 is not a symbolic link\n",
            "\n",
            "/sbin/ldconfig.real: /usr/local/lib/libur_loader.so.0 is not a symbolic link\n",
            "\n",
            "/sbin/ldconfig.real: /usr/local/lib/libur_adapter_level_zero.so.0 is not a symbolic link\n",
            "\n",
            "/sbin/ldconfig.real: /usr/local/lib/libur_adapter_opencl.so.0 is not a symbolic link\n",
            "\n",
            "/sbin/ldconfig.real: /usr/local/lib/libtbbbind_2_5.so.3 is not a symbolic link\n",
            "\n",
            "/sbin/ldconfig.real: /usr/local/lib/libtbbbind_2_0.so.3 is not a symbolic link\n",
            "\n",
            "/sbin/ldconfig.real: /usr/local/lib/libtbb.so.12 is not a symbolic link\n",
            "\n",
            "/sbin/ldconfig.real: /usr/local/lib/libtbbmalloc_proxy.so.2 is not a symbolic link\n",
            "\n",
            "/sbin/ldconfig.real: /usr/local/lib/libtbbmalloc.so.2 is not a symbolic link\n",
            "\n",
            "/sbin/ldconfig.real: /usr/local/lib/libtbbbind.so.3 is not a symbolic link\n",
            "\n",
            "Missing recommended library: libGLU.so\n",
            "\n",
            "Copying samples to /root/NVIDIA_CUDA-9.0_Samples now...\n",
            "Finished copying samples.\n",
            "Copying samples to /root/NVIDIA_CUDA-9.0_Samples now...\n",
            "Finished copying samples.\n"
          ]
        }
      ],
      "source": [
        "# Install missing libraries\n",
        "!sudo apt-get update\n",
        "!sudo apt-get install -y libglu1-mesa libx11-dev libxi-dev libxmu-dev libgl-dev\n",
        "\n",
        "# Download and install CUDA 9.0 silently with --override to replace the current one\n",
        "!wget -q https://developer.nvidia.com/compute/cuda/9.0/Prod/local_installers/cuda_9.0.176_384.81_linux-run -O cuda_9.0.176_384.81_linux-run\n",
        "!chmod +x cuda_9.0.176_384.81_linux-run\n",
        "!sudo sh cuda_9.0.176_384.81_linux-run --silent --override --toolkit --samples\n",
        "\n",
        "# Manually specify the toolkit and sample directories\n",
        "!sudo sh /usr/local/cuda-9.0/bin/cuda-install-samples-9.0.sh /root"
      ]
    },
    {
      "cell_type": "code",
      "execution_count": null,
      "metadata": {
        "execution": {
          "iopub.execute_input": "2025-04-20T04:03:20.246135Z",
          "iopub.status.busy": "2025-04-20T04:03:20.245915Z",
          "iopub.status.idle": "2025-04-20T04:03:21.509707Z",
          "shell.execute_reply": "2025-04-20T04:03:21.50888Z",
          "shell.execute_reply.started": "2025-04-20T04:03:20.246116Z"
        },
        "id": "pnVAaUCbgLUh",
        "outputId": "e1fb8fa6-f014-48fc-ac9b-7351b09ee8ac",
        "trusted": true
      },
      "outputs": [
        {
          "name": "stdout",
          "output_type": "stream",
          "text": [
            "nvcc: NVIDIA (R) Cuda compiler driver\n",
            "Copyright (c) 2005-2017 NVIDIA Corporation\n",
            "Built on Fri_Sep__1_21:08:03_CDT_2017\n",
            "Cuda compilation tools, release 9.0, V9.0.176\n"
          ]
        }
      ],
      "source": [
        "!nvcc --version"
      ]
    },
    {
      "cell_type": "code",
      "execution_count": null,
      "metadata": {
        "execution": {
          "iopub.execute_input": "2025-04-20T04:03:25.394487Z",
          "iopub.status.busy": "2025-04-20T04:03:25.394197Z",
          "iopub.status.idle": "2025-04-20T04:03:33.925543Z",
          "shell.execute_reply": "2025-04-20T04:03:33.924565Z",
          "shell.execute_reply.started": "2025-04-20T04:03:25.394465Z"
        },
        "id": "14AhOcomgLUh",
        "outputId": "ba7b071b-ba02-4539-a4e2-9e98a71b992d",
        "trusted": true
      },
      "outputs": [
        {
          "name": "stdout",
          "output_type": "stream",
          "text": [
            "Collecting thundersvm\n",
            "  Downloading thundersvm-0.3.12-py3-none-any.whl.metadata (601 bytes)\n",
            "Requirement already satisfied: numpy in /usr/local/lib/python3.10/dist-packages (from thundersvm) (1.26.4)\n",
            "Requirement already satisfied: scipy in /usr/local/lib/python3.10/dist-packages (from thundersvm) (1.13.1)\n",
            "Requirement already satisfied: scikit-learn in /usr/local/lib/python3.10/dist-packages (from thundersvm) (1.2.2)\n",
            "Requirement already satisfied: mkl_fft in /usr/local/lib/python3.10/dist-packages (from numpy->thundersvm) (1.3.8)\n",
            "Requirement already satisfied: mkl_random in /usr/local/lib/python3.10/dist-packages (from numpy->thundersvm) (1.2.4)\n",
            "Requirement already satisfied: mkl_umath in /usr/local/lib/python3.10/dist-packages (from numpy->thundersvm) (0.1.1)\n",
            "Requirement already satisfied: mkl in /usr/local/lib/python3.10/dist-packages (from numpy->thundersvm) (2025.0.1)\n",
            "Requirement already satisfied: tbb4py in /usr/local/lib/python3.10/dist-packages (from numpy->thundersvm) (2022.0.0)\n",
            "Requirement already satisfied: mkl-service in /usr/local/lib/python3.10/dist-packages (from numpy->thundersvm) (2.4.1)\n",
            "Requirement already satisfied: joblib>=1.1.1 in /usr/local/lib/python3.10/dist-packages (from scikit-learn->thundersvm) (1.4.2)\n",
            "Requirement already satisfied: threadpoolctl>=2.0.0 in /usr/local/lib/python3.10/dist-packages (from scikit-learn->thundersvm) (3.5.0)\n",
            "Requirement already satisfied: intel-openmp>=2024 in /usr/local/lib/python3.10/dist-packages (from mkl->numpy->thundersvm) (2024.2.0)\n",
            "Requirement already satisfied: tbb==2022.* in /usr/local/lib/python3.10/dist-packages (from mkl->numpy->thundersvm) (2022.0.0)\n",
            "Requirement already satisfied: tcmlib==1.* in /usr/local/lib/python3.10/dist-packages (from tbb==2022.*->mkl->numpy->thundersvm) (1.2.0)\n",
            "Requirement already satisfied: intel-cmplr-lib-rt in /usr/local/lib/python3.10/dist-packages (from mkl_umath->numpy->thundersvm) (2024.2.0)\n",
            "Requirement already satisfied: intel-cmplr-lib-ur==2024.2.0 in /usr/local/lib/python3.10/dist-packages (from intel-openmp>=2024->mkl->numpy->thundersvm) (2024.2.0)\n",
            "Downloading thundersvm-0.3.12-py3-none-any.whl (507 kB)\n",
            "\u001b[2K   \u001b[90m━━━━━━━━━━━━━━━━━━━━━━━━━━━━━━━━━━━━━━━━\u001b[0m \u001b[32m507.4/507.4 kB\u001b[0m \u001b[31m8.9 MB/s\u001b[0m eta \u001b[36m0:00:00\u001b[0mta \u001b[36m0:00:01\u001b[0m\n",
            "\u001b[?25hInstalling collected packages: thundersvm\n",
            "Successfully installed thundersvm-0.3.12\n"
          ]
        }
      ],
      "source": [
        "!pip install thundersvm"
      ]
    },
    {
      "cell_type": "markdown",
      "metadata": {
        "id": "rMrePLcEi1iV"
      },
      "source": [
        "**Preprocessing**"
      ]
    },
    {
      "cell_type": "code",
      "execution_count": null,
      "metadata": {
        "execution": {
          "iopub.execute_input": "2025-04-20T04:03:42.994716Z",
          "iopub.status.busy": "2025-04-20T04:03:42.994393Z",
          "iopub.status.idle": "2025-04-20T04:04:09.82079Z",
          "shell.execute_reply": "2025-04-20T04:04:09.820092Z",
          "shell.execute_reply.started": "2025-04-20T04:03:42.994688Z"
        },
        "id": "e8MOai4AgLUi",
        "outputId": "c4078d44-ea44-4d7f-9ed1-b2d654bc2e0a",
        "trusted": true
      },
      "outputs": [
        {
          "name": "stderr",
          "output_type": "stream",
          "text": [
            "/usr/local/lib/python3.10/dist-packages/sklearn/datasets/_openml.py:968: FutureWarning: The default value of `parser` will change from `'liac-arff'` to `'auto'` in 1.4. You can set `parser='auto'` to silence this warning. Therefore, an `ImportError` will be raised from 1.4 if the dataset is dense and pandas is not installed. Note that the pandas parser may return different data types. See the Notes Section in fetch_openml's API doc for details.\n",
            "  warn(\n"
          ]
        }
      ],
      "source": [
        "from sklearn.datasets import fetch_openml\n",
        "import numpy as np\n",
        "\n",
        "# get the MNIST dataset\n",
        "mnist = fetch_openml('mnist_784', as_frame=False)\n",
        "X_train, y_train = mnist.data[:60000], mnist.target[:60000]\n",
        "X_test, y_test = mnist.data[60000:], mnist.target[60000:]\n",
        "X_train = X_train.astype(np.float32)\n",
        "y_train = y_train.astype(np.int32)\n",
        "X_test = X_test.astype(np.float32)\n",
        "y_test = y_test.astype(np.int32)"
      ]
    },
    {
      "cell_type": "code",
      "execution_count": null,
      "metadata": {
        "execution": {
          "iopub.execute_input": "2025-04-20T04:04:25.194651Z",
          "iopub.status.busy": "2025-04-20T04:04:25.19436Z",
          "iopub.status.idle": "2025-04-20T04:04:25.477445Z",
          "shell.execute_reply": "2025-04-20T04:04:25.47676Z",
          "shell.execute_reply.started": "2025-04-20T04:04:25.19463Z"
        },
        "id": "Jx-LtVtZgLUi",
        "trusted": true
      },
      "outputs": [],
      "source": [
        "from sklearn.preprocessing import MinMaxScaler\n",
        "scaler = MinMaxScaler()\n",
        "X_train = scaler.fit_transform(X_train)\n",
        "X_test = scaler.transform(X_test)"
      ]
    },
    {
      "cell_type": "markdown",
      "metadata": {
        "id": "M106E4jkgLUj"
      },
      "source": [
        "## Grid Search SVM + RBF Kernel"
      ]
    },
    {
      "cell_type": "code",
      "execution_count": null,
      "metadata": {
        "execution": {
          "iopub.execute_input": "2025-03-31T02:01:20.485324Z",
          "iopub.status.busy": "2025-03-31T02:01:20.485029Z",
          "iopub.status.idle": "2025-03-31T04:05:44.777178Z",
          "shell.execute_reply": "2025-03-31T04:05:44.776197Z",
          "shell.execute_reply.started": "2025-03-31T02:01:20.485301Z"
        },
        "id": "ugBD3uLLgLUk",
        "outputId": "ec2cfbde-0156-4ddf-85f9-290ad729b06c",
        "trusted": true
      },
      "outputs": [
        {
          "name": "stdout",
          "output_type": "stream",
          "text": [
            "Fitting 3 folds for each of 49 candidates, totalling 147 fits\n",
            "[CV 1/3] END ..............C=0.001, gamma=0.001;, score=0.090 total time=  33.6s\n",
            "[CV 2/3] END ..............C=0.001, gamma=0.001;, score=0.090 total time=  35.6s\n",
            "[CV 3/3] END ..............C=0.001, gamma=0.001;, score=0.090 total time=  36.5s\n",
            "[CV 1/3] END ...............C=0.001, gamma=0.01;, score=0.248 total time=  33.0s\n",
            "[CV 2/3] END ...............C=0.001, gamma=0.01;, score=0.202 total time=  33.2s\n",
            "[CV 3/3] END ...............C=0.001, gamma=0.01;, score=0.191 total time=  33.0s\n",
            "[CV 1/3] END C=0.001, gamma=0.09999999999999999;, score=0.112 total time=  33.0s\n",
            "[CV 2/3] END C=0.001, gamma=0.09999999999999999;, score=0.112 total time=  32.9s\n",
            "[CV 3/3] END C=0.001, gamma=0.09999999999999999;, score=0.112 total time=  33.6s\n",
            "[CV 1/3] END ................C=0.001, gamma=1.0;, score=0.112 total time=  33.2s\n",
            "[CV 2/3] END ................C=0.001, gamma=1.0;, score=0.112 total time=  33.4s\n",
            "[CV 3/3] END ................C=0.001, gamma=1.0;, score=0.112 total time=  32.6s\n",
            "[CV 1/3] END ...............C=0.001, gamma=10.0;, score=0.112 total time=  32.7s\n",
            "[CV 2/3] END ...............C=0.001, gamma=10.0;, score=0.112 total time=  32.8s\n",
            "[CV 3/3] END ...............C=0.001, gamma=10.0;, score=0.112 total time=  33.6s\n",
            "[CV 1/3] END ..............C=0.001, gamma=100.0;, score=0.112 total time=  32.8s\n",
            "[CV 2/3] END ..............C=0.001, gamma=100.0;, score=0.112 total time=  32.7s\n",
            "[CV 3/3] END ..............C=0.001, gamma=100.0;, score=0.112 total time=  32.8s\n",
            "[CV 1/3] END .............C=0.001, gamma=1000.0;, score=0.112 total time=  32.7s\n",
            "[CV 2/3] END .............C=0.001, gamma=1000.0;, score=0.112 total time=  32.7s\n",
            "[CV 3/3] END .............C=0.001, gamma=1000.0;, score=0.112 total time=  32.9s\n",
            "[CV 1/3] END ...............C=0.01, gamma=0.001;, score=0.667 total time=  31.4s\n",
            "[CV 2/3] END ...............C=0.01, gamma=0.001;, score=0.649 total time=  31.4s\n",
            "[CV 3/3] END ...............C=0.01, gamma=0.001;, score=0.625 total time=  31.7s\n",
            "[CV 1/3] END ................C=0.01, gamma=0.01;, score=0.898 total time=  25.4s\n",
            "[CV 2/3] END ................C=0.01, gamma=0.01;, score=0.895 total time=  24.8s\n",
            "[CV 3/3] END ................C=0.01, gamma=0.01;, score=0.903 total time=  24.8s\n",
            "[CV 1/3] END .C=0.01, gamma=0.09999999999999999;, score=0.198 total time=  33.0s\n",
            "[CV 2/3] END .C=0.01, gamma=0.09999999999999999;, score=0.200 total time=  33.2s\n",
            "[CV 3/3] END .C=0.01, gamma=0.09999999999999999;, score=0.201 total time=  33.7s\n",
            "[CV 1/3] END .................C=0.01, gamma=1.0;, score=0.112 total time=  40.2s\n",
            "[CV 2/3] END .................C=0.01, gamma=1.0;, score=0.112 total time=  39.5s\n",
            "[CV 3/3] END .................C=0.01, gamma=1.0;, score=0.112 total time=  39.7s\n",
            "[CV 1/3] END ................C=0.01, gamma=10.0;, score=0.112 total time=  42.5s\n",
            "[CV 2/3] END ................C=0.01, gamma=10.0;, score=0.112 total time=  42.5s\n",
            "[CV 3/3] END ................C=0.01, gamma=10.0;, score=0.112 total time=  42.7s\n",
            "[CV 1/3] END ...............C=0.01, gamma=100.0;, score=0.112 total time=  42.4s\n",
            "[CV 2/3] END ...............C=0.01, gamma=100.0;, score=0.112 total time=  42.4s\n",
            "[CV 3/3] END ...............C=0.01, gamma=100.0;, score=0.112 total time=  42.4s\n",
            "[CV 1/3] END ..............C=0.01, gamma=1000.0;, score=0.112 total time=  42.0s\n",
            "[CV 2/3] END ..............C=0.01, gamma=1000.0;, score=0.112 total time=  41.9s\n",
            "[CV 3/3] END ..............C=0.01, gamma=1000.0;, score=0.112 total time=  42.0s\n",
            "[CV 1/3] END C=0.09999999999999999, gamma=0.001;, score=0.897 total time=  22.5s\n",
            "[CV 2/3] END C=0.09999999999999999, gamma=0.001;, score=0.894 total time=  22.5s\n",
            "[CV 3/3] END C=0.09999999999999999, gamma=0.001;, score=0.900 total time=  22.6s\n",
            "[CV 1/3] END .C=0.09999999999999999, gamma=0.01;, score=0.947 total time=  17.8s\n",
            "[CV 2/3] END .C=0.09999999999999999, gamma=0.01;, score=0.945 total time=  17.8s\n",
            "[CV 3/3] END .C=0.09999999999999999, gamma=0.01;, score=0.947 total time=  18.0s\n",
            "[CV 1/3] END C=0.09999999999999999, gamma=0.09999999999999999;, score=0.604 total time=  32.2s\n",
            "[CV 2/3] END C=0.09999999999999999, gamma=0.09999999999999999;, score=0.600 total time=  32.2s\n",
            "[CV 3/3] END C=0.09999999999999999, gamma=0.09999999999999999;, score=0.616 total time=  32.1s\n",
            "[CV 1/3] END ..C=0.09999999999999999, gamma=1.0;, score=0.112 total time=  51.2s\n",
            "[CV 2/3] END ..C=0.09999999999999999, gamma=1.0;, score=0.112 total time=  51.3s\n",
            "[CV 3/3] END ..C=0.09999999999999999, gamma=1.0;, score=0.112 total time=  51.9s\n",
            "[CV 1/3] END .C=0.09999999999999999, gamma=10.0;, score=0.112 total time=  56.1s\n",
            "[CV 2/3] END .C=0.09999999999999999, gamma=10.0;, score=0.112 total time=  56.1s\n",
            "[CV 3/3] END .C=0.09999999999999999, gamma=10.0;, score=0.112 total time=  56.1s\n",
            "[CV 1/3] END C=0.09999999999999999, gamma=100.0;, score=0.112 total time=  55.8s\n",
            "[CV 2/3] END C=0.09999999999999999, gamma=100.0;, score=0.112 total time=  55.6s\n",
            "[CV 3/3] END C=0.09999999999999999, gamma=100.0;, score=0.112 total time=  55.7s\n",
            "[CV 1/3] END C=0.09999999999999999, gamma=1000.0;, score=0.112 total time=  53.3s\n",
            "[CV 2/3] END C=0.09999999999999999, gamma=1000.0;, score=0.112 total time=  53.3s\n",
            "[CV 3/3] END C=0.09999999999999999, gamma=1000.0;, score=0.112 total time=  53.2s\n",
            "[CV 1/3] END ................C=1.0, gamma=0.001;, score=0.932 total time=  17.1s\n",
            "[CV 2/3] END ................C=1.0, gamma=0.001;, score=0.929 total time=  17.0s\n",
            "[CV 3/3] END ................C=1.0, gamma=0.001;, score=0.933 total time=  17.2s\n",
            "[CV 1/3] END .................C=1.0, gamma=0.01;, score=0.973 total time=  15.8s\n",
            "[CV 2/3] END .................C=1.0, gamma=0.01;, score=0.970 total time=  15.8s\n",
            "[CV 3/3] END .................C=1.0, gamma=0.01;, score=0.972 total time=  15.7s\n",
            "[CV 1/3] END ..C=1.0, gamma=0.09999999999999999;, score=0.936 total time=  51.5s\n",
            "[CV 2/3] END ..C=1.0, gamma=0.09999999999999999;, score=0.936 total time=  51.0s\n",
            "[CV 3/3] END ..C=1.0, gamma=0.09999999999999999;, score=0.942 total time=  51.8s\n",
            "[CV 1/3] END ..................C=1.0, gamma=1.0;, score=0.165 total time= 1.4min\n",
            "[CV 2/3] END ..................C=1.0, gamma=1.0;, score=0.170 total time= 1.3min\n",
            "[CV 3/3] END ..................C=1.0, gamma=1.0;, score=0.177 total time= 1.3min\n",
            "[CV 1/3] END .................C=1.0, gamma=10.0;, score=0.112 total time= 1.1min\n",
            "[CV 2/3] END .................C=1.0, gamma=10.0;, score=0.112 total time= 1.1min\n",
            "[CV 3/3] END .................C=1.0, gamma=10.0;, score=0.112 total time= 1.1min\n",
            "[CV 1/3] END ................C=1.0, gamma=100.0;, score=0.112 total time= 1.1min\n",
            "[CV 2/3] END ................C=1.0, gamma=100.0;, score=0.112 total time= 1.1min\n",
            "[CV 3/3] END ................C=1.0, gamma=100.0;, score=0.112 total time= 1.1min\n",
            "[CV 1/3] END ...............C=1.0, gamma=1000.0;, score=0.112 total time= 1.0min\n",
            "[CV 2/3] END ...............C=1.0, gamma=1000.0;, score=0.112 total time= 1.0min\n",
            "[CV 3/3] END ...............C=1.0, gamma=1000.0;, score=0.112 total time= 1.0min\n",
            "[CV 1/3] END ...............C=10.0, gamma=0.001;, score=0.952 total time=  16.1s\n",
            "[CV 2/3] END ...............C=10.0, gamma=0.001;, score=0.950 total time=  16.1s\n",
            "[CV 3/3] END ...............C=10.0, gamma=0.001;, score=0.952 total time=  16.1s\n",
            "[CV 1/3] END ................C=10.0, gamma=0.01;, score=0.981 total time=  16.6s\n",
            "[CV 2/3] END ................C=10.0, gamma=0.01;, score=0.977 total time=  16.5s\n",
            "[CV 3/3] END ................C=10.0, gamma=0.01;, score=0.979 total time=  16.6s\n",
            "[CV 1/3] END .C=10.0, gamma=0.09999999999999999;, score=0.938 total time=  52.2s\n",
            "[CV 2/3] END .C=10.0, gamma=0.09999999999999999;, score=0.939 total time=  51.9s\n",
            "[CV 3/3] END .C=10.0, gamma=0.09999999999999999;, score=0.945 total time=  52.4s\n",
            "[CV 1/3] END .................C=10.0, gamma=1.0;, score=0.168 total time= 1.5min\n",
            "[CV 2/3] END .................C=10.0, gamma=1.0;, score=0.173 total time= 1.5min\n",
            "[CV 3/3] END .................C=10.0, gamma=1.0;, score=0.181 total time= 1.5min\n",
            "[CV 1/3] END ................C=10.0, gamma=10.0;, score=0.112 total time= 1.5min\n",
            "[CV 2/3] END ................C=10.0, gamma=10.0;, score=0.112 total time= 1.5min\n",
            "[CV 3/3] END ................C=10.0, gamma=10.0;, score=0.112 total time= 1.5min\n",
            "[CV 1/3] END ...............C=10.0, gamma=100.0;, score=0.112 total time= 1.5min\n",
            "[CV 2/3] END ...............C=10.0, gamma=100.0;, score=0.112 total time= 1.5min\n",
            "[CV 3/3] END ...............C=10.0, gamma=100.0;, score=0.112 total time= 1.5min\n",
            "[CV 1/3] END ..............C=10.0, gamma=1000.0;, score=0.112 total time= 1.4min\n",
            "[CV 2/3] END ..............C=10.0, gamma=1000.0;, score=0.112 total time= 1.5min\n",
            "[CV 3/3] END ..............C=10.0, gamma=1000.0;, score=0.112 total time= 1.5min\n",
            "[CV 1/3] END ..............C=100.0, gamma=0.001;, score=0.966 total time=  18.4s\n",
            "[CV 2/3] END ..............C=100.0, gamma=0.001;, score=0.963 total time=  18.3s\n",
            "[CV 3/3] END ..............C=100.0, gamma=0.001;, score=0.965 total time=  18.3s\n",
            "[CV 1/3] END ...............C=100.0, gamma=0.01;, score=0.981 total time=  16.4s\n",
            "[CV 2/3] END ...............C=100.0, gamma=0.01;, score=0.978 total time=  16.5s\n",
            "[CV 3/3] END ...............C=100.0, gamma=0.01;, score=0.979 total time=  16.5s\n",
            "[CV 1/3] END C=100.0, gamma=0.09999999999999999;, score=0.938 total time=  52.2s\n",
            "[CV 2/3] END C=100.0, gamma=0.09999999999999999;, score=0.939 total time=  51.8s\n",
            "[CV 3/3] END C=100.0, gamma=0.09999999999999999;, score=0.945 total time=  52.4s\n",
            "[CV 1/3] END ................C=100.0, gamma=1.0;, score=0.168 total time= 1.5min\n",
            "[CV 2/3] END ................C=100.0, gamma=1.0;, score=0.173 total time= 1.5min\n",
            "[CV 3/3] END ................C=100.0, gamma=1.0;, score=0.181 total time= 1.5min\n",
            "[CV 1/3] END ...............C=100.0, gamma=10.0;, score=0.112 total time= 1.5min\n",
            "[CV 2/3] END ...............C=100.0, gamma=10.0;, score=0.112 total time= 1.5min\n",
            "[CV 3/3] END ...............C=100.0, gamma=10.0;, score=0.112 total time= 1.5min\n",
            "[CV 1/3] END ..............C=100.0, gamma=100.0;, score=0.112 total time= 1.5min\n",
            "[CV 2/3] END ..............C=100.0, gamma=100.0;, score=0.112 total time= 1.5min\n",
            "[CV 3/3] END ..............C=100.0, gamma=100.0;, score=0.112 total time= 1.5min\n",
            "[CV 1/3] END .............C=100.0, gamma=1000.0;, score=0.112 total time= 1.4min\n",
            "[CV 2/3] END .............C=100.0, gamma=1000.0;, score=0.112 total time= 1.5min\n",
            "[CV 3/3] END .............C=100.0, gamma=1000.0;, score=0.112 total time= 1.5min\n",
            "[CV 1/3] END .............C=1000.0, gamma=0.001;, score=0.967 total time=  21.1s\n",
            "[CV 2/3] END .............C=1000.0, gamma=0.001;, score=0.964 total time=  20.9s\n",
            "[CV 3/3] END .............C=1000.0, gamma=0.001;, score=0.965 total time=  21.1s\n",
            "[CV 1/3] END ..............C=1000.0, gamma=0.01;, score=0.981 total time=  16.5s\n",
            "[CV 2/3] END ..............C=1000.0, gamma=0.01;, score=0.978 total time=  16.6s\n",
            "[CV 3/3] END ..............C=1000.0, gamma=0.01;, score=0.979 total time=  16.5s\n",
            "[CV 1/3] END C=1000.0, gamma=0.09999999999999999;, score=0.938 total time=  52.1s\n",
            "[CV 2/3] END C=1000.0, gamma=0.09999999999999999;, score=0.939 total time=  51.8s\n",
            "[CV 3/3] END C=1000.0, gamma=0.09999999999999999;, score=0.945 total time=  52.5s\n",
            "[CV 1/3] END ...............C=1000.0, gamma=1.0;, score=0.168 total time= 1.5min\n",
            "[CV 2/3] END ...............C=1000.0, gamma=1.0;, score=0.173 total time= 1.5min\n",
            "[CV 3/3] END ...............C=1000.0, gamma=1.0;, score=0.181 total time= 1.5min\n",
            "[CV 1/3] END ..............C=1000.0, gamma=10.0;, score=0.112 total time= 1.5min\n",
            "[CV 2/3] END ..............C=1000.0, gamma=10.0;, score=0.112 total time= 1.5min\n",
            "[CV 3/3] END ..............C=1000.0, gamma=10.0;, score=0.112 total time= 1.5min\n",
            "[CV 1/3] END .............C=1000.0, gamma=100.0;, score=0.112 total time= 1.5min\n",
            "[CV 2/3] END .............C=1000.0, gamma=100.0;, score=0.112 total time= 1.5min\n",
            "[CV 3/3] END .............C=1000.0, gamma=100.0;, score=0.112 total time= 1.5min\n",
            "[CV 1/3] END ............C=1000.0, gamma=1000.0;, score=0.112 total time= 1.4min\n",
            "[CV 2/3] END ............C=1000.0, gamma=1000.0;, score=0.112 total time= 1.5min\n",
            "[CV 3/3] END ............C=1000.0, gamma=1000.0;, score=0.112 total time= 1.5min\n",
            "Best Parameters: {'C': 100.0, 'gamma': 0.01}\n",
            "Best Accuracy: 0.9792333333333333\n"
          ]
        }
      ],
      "source": [
        "from sklearn.model_selection import GridSearchCV\n",
        "from thundersvm import SVC\n",
        "\n",
        "# Define parameter grid\n",
        "param_grid_rbf = {\n",
        "    'C': np.logspace(-3, 3, 7),\n",
        "    'gamma': np.logspace(-3, 3, 7)\n",
        "}\n",
        "\n",
        "\n",
        "# Use GridSearchCV to find the best parameters\n",
        "grid_search = GridSearchCV(SVC(kernel='rbf'), param_grid_rbf, cv=3, scoring='accuracy', verbose=3)\n",
        "grid_search.fit(X_train, y_train)\n",
        "\n",
        "# Print best parameters\n",
        "print(\"Best Parameters:\", grid_search.best_params_)\n",
        "print(\"Best Accuracy:\", grid_search.best_score_)\n"
      ]
    },
    {
      "cell_type": "code",
      "execution_count": null,
      "metadata": {
        "execution": {
          "iopub.execute_input": "2025-03-31T04:12:21.602338Z",
          "iopub.status.busy": "2025-03-31T04:12:21.602006Z",
          "iopub.status.idle": "2025-03-31T04:12:49.621245Z",
          "shell.execute_reply": "2025-03-31T04:12:49.62035Z",
          "shell.execute_reply.started": "2025-03-31T04:12:21.602304Z"
        },
        "id": "HA9H2PnEgLUl",
        "outputId": "abbe67b2-5a9b-44ee-cc6a-adc6d6732226",
        "trusted": true
      },
      "outputs": [
        {
          "name": "stdout",
          "output_type": "stream",
          "text": [
            "Accuracy: 0.9823\n"
          ]
        }
      ],
      "source": [
        "from thundersvm import SVC\n",
        "\n",
        "# Initialize the SVM classifier with an RBF kernel\n",
        "model = SVC(kernel='rbf', C=100, gamma=0.01)\n",
        "\n",
        "# Train the model\n",
        "model.fit(X_train, y_train)\n",
        "\n",
        "\n",
        "# Check test set accuracy\n",
        "accuracy = model.score(X_test, y_test)\n",
        "\n",
        "print('Accuracy: {}'.format(accuracy))"
      ]
    },
    {
      "cell_type": "markdown",
      "metadata": {
        "id": "KZDOevUigLUm"
      },
      "source": [
        "## SVM + Polynomial kernel"
      ]
    },
    {
      "cell_type": "code",
      "execution_count": null,
      "metadata": {
        "colab": {
          "base_uri": "https://localhost:8080/"
        },
        "id": "tcsPuJ0ubBbE",
        "outputId": "f6367949-e7bf-498b-8f18-0b631574e585"
      },
      "outputs": [
        {
          "name": "stdout",
          "output_type": "stream",
          "text": [
            "Fitting 3 folds for each of 112 candidates, totalling 336 fits\n",
            "[CV 1/3] END ........C=0.001, coef0=0, degree=2;, score=0.089 total time=  36.4s\n",
            "[CV 2/3] END ........C=0.001, coef0=0, degree=2;, score=0.091 total time=  32.3s\n",
            "[CV 3/3] END ........C=0.001, coef0=0, degree=2;, score=0.091 total time=  30.9s\n",
            "[CV 1/3] END ........C=0.001, coef0=0, degree=3;, score=0.089 total time=  29.5s\n",
            "[CV 2/3] END ........C=0.001, coef0=0, degree=3;, score=0.091 total time=  28.9s\n",
            "[CV 3/3] END ........C=0.001, coef0=0, degree=3;, score=0.091 total time=  29.7s\n",
            "[CV 1/3] END ........C=0.001, coef0=0, degree=4;, score=0.089 total time=  29.9s\n",
            "[CV 2/3] END ........C=0.001, coef0=0, degree=4;, score=0.091 total time=  29.5s\n",
            "[CV 3/3] END ........C=0.001, coef0=0, degree=4;, score=0.091 total time=  29.4s\n",
            "[CV 1/3] END ........C=0.001, coef0=0, degree=5;, score=0.089 total time=  29.0s\n",
            "[CV 2/3] END ........C=0.001, coef0=0, degree=5;, score=0.091 total time=  30.1s\n",
            "[CV 3/3] END ........C=0.001, coef0=0, degree=5;, score=0.091 total time=  29.6s\n",
            "[CV 1/3] END ......C=0.001, coef0=0.5, degree=2;, score=0.089 total time=  31.6s\n",
            "[CV 2/3] END ......C=0.001, coef0=0.5, degree=2;, score=0.091 total time=  31.3s\n",
            "[CV 3/3] END ......C=0.001, coef0=0.5, degree=2;, score=0.091 total time=  31.3s\n",
            "[CV 1/3] END ......C=0.001, coef0=0.5, degree=3;, score=0.089 total time=  32.6s\n",
            "[CV 2/3] END ......C=0.001, coef0=0.5, degree=3;, score=0.091 total time=  31.3s\n",
            "[CV 3/3] END ......C=0.001, coef0=0.5, degree=3;, score=0.091 total time=  31.2s\n",
            "[CV 1/3] END ......C=0.001, coef0=0.5, degree=4;, score=0.089 total time=  32.8s\n",
            "[CV 2/3] END ......C=0.001, coef0=0.5, degree=4;, score=0.091 total time=  31.7s\n",
            "[CV 3/3] END ......C=0.001, coef0=0.5, degree=4;, score=0.091 total time=  31.0s\n",
            "[CV 1/3] END ......C=0.001, coef0=0.5, degree=5;, score=0.089 total time=  31.5s\n",
            "[CV 2/3] END ......C=0.001, coef0=0.5, degree=5;, score=0.091 total time=  30.7s\n",
            "[CV 3/3] END ......C=0.001, coef0=0.5, degree=5;, score=0.091 total time=  31.0s\n",
            "[CV 1/3] END ........C=0.001, coef0=1, degree=2;, score=0.089 total time=  31.1s\n",
            "[CV 2/3] END ........C=0.001, coef0=1, degree=2;, score=0.091 total time=  31.1s\n",
            "[CV 3/3] END ........C=0.001, coef0=1, degree=2;, score=0.091 total time=  32.0s\n",
            "[CV 1/3] END ........C=0.001, coef0=1, degree=3;, score=0.118 total time=  31.1s\n",
            "[CV 2/3] END ........C=0.001, coef0=1, degree=3;, score=0.107 total time=  31.1s\n",
            "[CV 3/3] END ........C=0.001, coef0=1, degree=3;, score=0.125 total time=  31.1s\n",
            "[CV 1/3] END ........C=0.001, coef0=1, degree=4;, score=0.176 total time=  31.3s\n",
            "[CV 2/3] END ........C=0.001, coef0=1, degree=4;, score=0.179 total time=  32.1s\n",
            "[CV 3/3] END ........C=0.001, coef0=1, degree=4;, score=0.171 total time=  31.4s\n",
            "[CV 1/3] END ........C=0.001, coef0=1, degree=5;, score=0.117 total time=  31.3s\n",
            "[CV 2/3] END ........C=0.001, coef0=1, degree=5;, score=0.199 total time=  32.2s\n",
            "[CV 3/3] END ........C=0.001, coef0=1, degree=5;, score=0.114 total time=  31.2s\n",
            "[CV 1/3] END ........C=0.001, coef0=2, degree=2;, score=0.161 total time=  31.3s\n",
            "[CV 2/3] END ........C=0.001, coef0=2, degree=2;, score=0.151 total time=  31.9s\n",
            "[CV 3/3] END ........C=0.001, coef0=2, degree=2;, score=0.169 total time=  31.1s\n",
            "[CV 1/3] END ........C=0.001, coef0=2, degree=3;, score=0.406 total time=  30.3s\n",
            "[CV 2/3] END ........C=0.001, coef0=2, degree=3;, score=0.496 total time=  29.9s\n",
            "[CV 3/3] END ........C=0.001, coef0=2, degree=3;, score=0.606 total time=  30.0s\n",
            "[CV 1/3] END ........C=0.001, coef0=2, degree=4;, score=0.751 total time=  26.1s\n",
            "[CV 2/3] END ........C=0.001, coef0=2, degree=4;, score=0.836 total time=  26.1s\n",
            "[CV 3/3] END ........C=0.001, coef0=2, degree=4;, score=0.848 total time=  26.2s\n",
            "[CV 1/3] END ........C=0.001, coef0=2, degree=5;, score=0.885 total time=  22.6s\n",
            "[CV 2/3] END ........C=0.001, coef0=2, degree=5;, score=0.880 total time=  22.6s\n",
            "[CV 3/3] END ........C=0.001, coef0=2, degree=5;, score=0.887 total time=  22.7s\n",
            "[CV 1/3] END .........C=0.01, coef0=0, degree=2;, score=0.089 total time=  31.9s\n",
            "[CV 2/3] END .........C=0.01, coef0=0, degree=2;, score=0.091 total time=  30.9s\n",
            "[CV 3/3] END .........C=0.01, coef0=0, degree=2;, score=0.091 total time=  30.9s\n",
            "[CV 1/3] END .........C=0.01, coef0=0, degree=3;, score=0.089 total time=  30.2s\n",
            "[CV 2/3] END .........C=0.01, coef0=0, degree=3;, score=0.091 total time=  30.5s\n",
            "[CV 3/3] END .........C=0.01, coef0=0, degree=3;, score=0.091 total time=  30.5s\n",
            "[CV 1/3] END .........C=0.01, coef0=0, degree=4;, score=0.089 total time=  29.8s\n",
            "[CV 2/3] END .........C=0.01, coef0=0, degree=4;, score=0.091 total time=  29.7s\n",
            "[CV 3/3] END .........C=0.01, coef0=0, degree=4;, score=0.091 total time=  29.8s\n",
            "[CV 1/3] END .........C=0.01, coef0=0, degree=5;, score=0.089 total time=  29.4s\n",
            "[CV 2/3] END .........C=0.01, coef0=0, degree=5;, score=0.091 total time=  29.5s\n",
            "[CV 3/3] END .........C=0.01, coef0=0, degree=5;, score=0.091 total time=  29.4s\n",
            "[CV 1/3] END .......C=0.01, coef0=0.5, degree=2;, score=0.534 total time=  30.4s\n",
            "[CV 2/3] END .......C=0.01, coef0=0.5, degree=2;, score=0.506 total time=  30.3s\n",
            "[CV 3/3] END .......C=0.01, coef0=0.5, degree=2;, score=0.546 total time=  30.1s\n",
            "[CV 1/3] END .......C=0.01, coef0=0.5, degree=3;, score=0.452 total time=  30.6s\n",
            "[CV 2/3] END .......C=0.01, coef0=0.5, degree=3;, score=0.442 total time=  30.5s\n",
            "[CV 3/3] END .......C=0.01, coef0=0.5, degree=3;, score=0.448 total time=  31.7s\n",
            "[CV 1/3] END .......C=0.01, coef0=0.5, degree=4;, score=0.325 total time=  30.9s\n",
            "[CV 2/3] END .......C=0.01, coef0=0.5, degree=4;, score=0.335 total time=  30.9s\n",
            "[CV 3/3] END .......C=0.01, coef0=0.5, degree=4;, score=0.206 total time=  30.9s\n",
            "[CV 1/3] END .......C=0.01, coef0=0.5, degree=5;, score=0.152 total time=  31.0s\n",
            "[CV 2/3] END .......C=0.01, coef0=0.5, degree=5;, score=0.170 total time=  32.1s\n",
            "[CV 3/3] END .......C=0.01, coef0=0.5, degree=5;, score=0.116 total time=  31.8s\n",
            "[CV 1/3] END .........C=0.01, coef0=1, degree=2;, score=0.740 total time=  28.5s\n",
            "[CV 2/3] END .........C=0.01, coef0=1, degree=2;, score=0.772 total time=  28.2s\n",
            "[CV 3/3] END .........C=0.01, coef0=1, degree=2;, score=0.779 total time=  28.5s\n",
            "[CV 1/3] END .........C=0.01, coef0=1, degree=3;, score=0.837 total time=  26.6s\n",
            "[CV 2/3] END .........C=0.01, coef0=1, degree=3;, score=0.833 total time=  26.4s\n",
            "[CV 3/3] END .........C=0.01, coef0=1, degree=3;, score=0.846 total time=  26.4s\n",
            "[CV 1/3] END .........C=0.01, coef0=1, degree=4;, score=0.858 total time=  25.2s\n",
            "[CV 2/3] END .........C=0.01, coef0=1, degree=4;, score=0.854 total time=  24.8s\n",
            "[CV 3/3] END .........C=0.01, coef0=1, degree=4;, score=0.865 total time=  25.1s\n",
            "[CV 1/3] END .........C=0.01, coef0=1, degree=5;, score=0.872 total time=  24.4s\n",
            "[CV 2/3] END .........C=0.01, coef0=1, degree=5;, score=0.868 total time=  24.8s\n",
            "[CV 3/3] END .........C=0.01, coef0=1, degree=5;, score=0.878 total time=  24.7s\n",
            "[CV 1/3] END .........C=0.01, coef0=2, degree=2;, score=0.850 total time=  25.6s\n",
            "[CV 2/3] END .........C=0.01, coef0=2, degree=2;, score=0.845 total time=  25.4s\n",
            "[CV 3/3] END .........C=0.01, coef0=2, degree=2;, score=0.857 total time=  25.4s\n",
            "[CV 1/3] END .........C=0.01, coef0=2, degree=3;, score=0.893 total time=  21.6s\n",
            "[CV 2/3] END .........C=0.01, coef0=2, degree=3;, score=0.889 total time=  21.8s\n",
            "[CV 3/3] END .........C=0.01, coef0=2, degree=3;, score=0.895 total time=  22.4s\n",
            "[CV 1/3] END .........C=0.01, coef0=2, degree=4;, score=0.914 total time=  18.8s\n",
            "[CV 2/3] END .........C=0.01, coef0=2, degree=4;, score=0.910 total time=  19.0s\n",
            "[CV 3/3] END .........C=0.01, coef0=2, degree=4;, score=0.915 total time=  18.8s\n",
            "[CV 1/3] END .........C=0.01, coef0=2, degree=5;, score=0.928 total time=  16.8s\n",
            "[CV 2/3] END .........C=0.01, coef0=2, degree=5;, score=0.924 total time=  16.7s\n",
            "[CV 3/3] END .........C=0.01, coef0=2, degree=5;, score=0.928 total time=  17.4s\n",
            "[CV 1/3] END ..........C=0.1, coef0=0, degree=2;, score=0.502 total time=  29.7s\n",
            "[CV 2/3] END ..........C=0.1, coef0=0, degree=2;, score=0.510 total time=  30.1s\n",
            "[CV 3/3] END ..........C=0.1, coef0=0, degree=2;, score=0.543 total time=  29.8s\n",
            "[CV 1/3] END ..........C=0.1, coef0=0, degree=3;, score=0.092 total time=  32.2s\n",
            "[CV 2/3] END ..........C=0.1, coef0=0, degree=3;, score=0.092 total time=  31.2s\n",
            "[CV 3/3] END ..........C=0.1, coef0=0, degree=3;, score=0.095 total time=  31.2s\n",
            "[CV 1/3] END ..........C=0.1, coef0=0, degree=4;, score=0.089 total time=  31.6s\n",
            "[CV 2/3] END ..........C=0.1, coef0=0, degree=4;, score=0.091 total time=  30.7s\n",
            "[CV 3/3] END ..........C=0.1, coef0=0, degree=4;, score=0.091 total time=  31.0s\n",
            "[CV 1/3] END ..........C=0.1, coef0=0, degree=5;, score=0.089 total time=  30.3s\n",
            "[CV 2/3] END ..........C=0.1, coef0=0, degree=5;, score=0.091 total time=  30.2s\n",
            "[CV 3/3] END ..........C=0.1, coef0=0, degree=5;, score=0.091 total time=  30.2s\n",
            "[CV 1/3] END ........C=0.1, coef0=0.5, degree=2;, score=0.890 total time=  22.2s\n",
            "[CV 2/3] END ........C=0.1, coef0=0.5, degree=2;, score=0.887 total time=  22.2s\n",
            "[CV 3/3] END ........C=0.1, coef0=0.5, degree=2;, score=0.893 total time=  22.4s\n",
            "[CV 1/3] END ........C=0.1, coef0=0.5, degree=3;, score=0.887 total time=  23.0s\n",
            "[CV 2/3] END ........C=0.1, coef0=0.5, degree=3;, score=0.882 total time=  22.8s\n",
            "[CV 3/3] END ........C=0.1, coef0=0.5, degree=3;, score=0.890 total time=  22.9s\n",
            "[CV 1/3] END ........C=0.1, coef0=0.5, degree=4;, score=0.877 total time=  24.0s\n",
            "[CV 2/3] END ........C=0.1, coef0=0.5, degree=4;, score=0.874 total time=  23.9s\n",
            "[CV 3/3] END ........C=0.1, coef0=0.5, degree=4;, score=0.882 total time=  23.9s\n",
            "[CV 1/3] END ........C=0.1, coef0=0.5, degree=5;, score=0.861 total time=  25.2s\n",
            "[CV 2/3] END ........C=0.1, coef0=0.5, degree=5;, score=0.856 total time=  25.1s\n",
            "[CV 3/3] END ........C=0.1, coef0=0.5, degree=5;, score=0.868 total time=  25.0s\n",
            "[CV 1/3] END ..........C=0.1, coef0=1, degree=2;, score=0.904 total time=  20.5s\n",
            "[CV 2/3] END ..........C=0.1, coef0=1, degree=2;, score=0.900 total time=  20.6s\n",
            "[CV 3/3] END ..........C=0.1, coef0=1, degree=2;, score=0.905 total time=  20.2s\n",
            "[CV 1/3] END ..........C=0.1, coef0=1, degree=3;, score=0.914 total time=  19.2s\n",
            "[CV 2/3] END ..........C=0.1, coef0=1, degree=3;, score=0.910 total time=  19.0s\n",
            "[CV 3/3] END ..........C=0.1, coef0=1, degree=3;, score=0.915 total time=  19.0s\n",
            "[CV 1/3] END ..........C=0.1, coef0=1, degree=4;, score=0.922 total time=  18.9s\n",
            "[CV 2/3] END ..........C=0.1, coef0=1, degree=4;, score=0.917 total time=  18.2s\n",
            "[CV 3/3] END ..........C=0.1, coef0=1, degree=4;, score=0.922 total time=  18.7s\n",
            "[CV 1/3] END ..........C=0.1, coef0=1, degree=5;, score=0.927 total time=  17.5s\n",
            "[CV 2/3] END ..........C=0.1, coef0=1, degree=5;, score=0.923 total time=  18.2s\n",
            "[CV 3/3] END ..........C=0.1, coef0=1, degree=5;, score=0.928 total time=  17.4s\n",
            "[CV 1/3] END ..........C=0.1, coef0=2, degree=2;, score=0.914 total time=  19.1s\n",
            "[CV 2/3] END ..........C=0.1, coef0=2, degree=2;, score=0.910 total time=  18.2s\n",
            "[CV 3/3] END ..........C=0.1, coef0=2, degree=2;, score=0.915 total time=  18.8s\n",
            "[CV 1/3] END ..........C=0.1, coef0=2, degree=3;, score=0.929 total time=  16.8s\n",
            "[CV 2/3] END ..........C=0.1, coef0=2, degree=3;, score=0.926 total time=  17.4s\n",
            "[CV 3/3] END ..........C=0.1, coef0=2, degree=3;, score=0.929 total time=  16.5s\n",
            "[CV 1/3] END ..........C=0.1, coef0=2, degree=4;, score=0.940 total time=  15.7s\n",
            "[CV 2/3] END ..........C=0.1, coef0=2, degree=4;, score=0.936 total time=  15.8s\n",
            "[CV 3/3] END ..........C=0.1, coef0=2, degree=4;, score=0.939 total time=  15.7s\n",
            "[CV 1/3] END ..........C=0.1, coef0=2, degree=5;, score=0.948 total time=  15.4s\n",
            "[CV 2/3] END ..........C=0.1, coef0=2, degree=5;, score=0.947 total time=  16.0s\n",
            "[CV 3/3] END ..........C=0.1, coef0=2, degree=5;, score=0.950 total time=  15.3s\n",
            "[CV 1/3] END ..........C=1.0, coef0=0, degree=2;, score=0.890 total time=  22.7s\n",
            "[CV 2/3] END ..........C=1.0, coef0=0, degree=2;, score=0.889 total time=  22.4s\n",
            "[CV 3/3] END ..........C=1.0, coef0=0, degree=2;, score=0.896 total time=  22.0s\n",
            "[CV 1/3] END ..........C=1.0, coef0=0, degree=3;, score=0.487 total time=  29.7s\n",
            "[CV 2/3] END ..........C=1.0, coef0=0, degree=3;, score=0.432 total time=  29.7s\n",
            "[CV 3/3] END ..........C=1.0, coef0=0, degree=3;, score=0.451 total time=  29.8s\n",
            "[CV 1/3] END ..........C=1.0, coef0=0, degree=4;, score=0.107 total time=  30.9s\n",
            "[CV 2/3] END ..........C=1.0, coef0=0, degree=4;, score=0.165 total time=  30.8s\n",
            "[CV 3/3] END ..........C=1.0, coef0=0, degree=4;, score=0.110 total time=  31.3s\n",
            "[CV 1/3] END ..........C=1.0, coef0=0, degree=5;, score=0.089 total time=  30.5s\n",
            "[CV 2/3] END ..........C=1.0, coef0=0, degree=5;, score=0.091 total time=  31.6s\n",
            "[CV 3/3] END ..........C=1.0, coef0=0, degree=5;, score=0.091 total time=  30.6s\n",
            "[CV 1/3] END ........C=1.0, coef0=0.5, degree=2;, score=0.929 total time=  16.7s\n",
            "[CV 2/3] END ........C=1.0, coef0=0.5, degree=2;, score=0.926 total time=  16.7s\n",
            "[CV 3/3] END ........C=1.0, coef0=0.5, degree=2;, score=0.930 total time=  17.4s\n",
            "[CV 1/3] END ........C=1.0, coef0=0.5, degree=3;, score=0.931 total time=  16.8s\n",
            "[CV 2/3] END ........C=1.0, coef0=0.5, degree=3;, score=0.928 total time=  17.4s\n",
            "[CV 3/3] END ........C=1.0, coef0=0.5, degree=3;, score=0.933 total time=  16.8s\n",
            "[CV 1/3] END ........C=1.0, coef0=0.5, degree=4;, score=0.930 total time=  17.1s\n",
            "[CV 2/3] END ........C=1.0, coef0=0.5, degree=4;, score=0.927 total time=  17.4s\n",
            "[CV 3/3] END ........C=1.0, coef0=0.5, degree=4;, score=0.932 total time=  17.1s\n",
            "[CV 1/3] END ........C=1.0, coef0=0.5, degree=5;, score=0.927 total time=  18.2s\n",
            "[CV 2/3] END ........C=1.0, coef0=0.5, degree=5;, score=0.924 total time=  17.7s\n",
            "[CV 3/3] END ........C=1.0, coef0=0.5, degree=5;, score=0.929 total time=  18.2s\n",
            "[CV 1/3] END ..........C=1.0, coef0=1, degree=2;, score=0.933 total time=  15.9s\n",
            "[CV 2/3] END ..........C=1.0, coef0=1, degree=2;, score=0.930 total time=  16.0s\n",
            "[CV 3/3] END ..........C=1.0, coef0=1, degree=2;, score=0.933 total time=  15.9s\n",
            "[CV 1/3] END ..........C=1.0, coef0=1, degree=3;, score=0.941 total time=  15.6s\n",
            "[CV 2/3] END ..........C=1.0, coef0=1, degree=3;, score=0.938 total time=  15.7s\n",
            "[CV 3/3] END ..........C=1.0, coef0=1, degree=3;, score=0.940 total time=  16.2s\n",
            "[CV 1/3] END ..........C=1.0, coef0=1, degree=4;, score=0.947 total time=  15.7s\n",
            "[CV 2/3] END ..........C=1.0, coef0=1, degree=4;, score=0.945 total time=  15.8s\n",
            "[CV 3/3] END ..........C=1.0, coef0=1, degree=4;, score=0.947 total time=  16.3s\n",
            "[CV 1/3] END ..........C=1.0, coef0=1, degree=5;, score=0.953 total time=  15.5s\n",
            "[CV 2/3] END ..........C=1.0, coef0=1, degree=5;, score=0.950 total time=  15.5s\n",
            "[CV 3/3] END ..........C=1.0, coef0=1, degree=5;, score=0.953 total time=  16.4s\n",
            "[CV 1/3] END ..........C=1.0, coef0=2, degree=2;, score=0.937 total time=  15.9s\n",
            "[CV 2/3] END ..........C=1.0, coef0=2, degree=2;, score=0.935 total time=  15.9s\n",
            "[CV 3/3] END ..........C=1.0, coef0=2, degree=2;, score=0.937 total time=  16.8s\n",
            "[CV 1/3] END ..........C=1.0, coef0=2, degree=3;, score=0.946 total time=  15.6s\n",
            "[CV 2/3] END ..........C=1.0, coef0=2, degree=3;, score=0.944 total time=  15.6s\n",
            "[CV 3/3] END ..........C=1.0, coef0=2, degree=3;, score=0.946 total time=  16.4s\n",
            "[CV 1/3] END ..........C=1.0, coef0=2, degree=4;, score=0.957 total time=  15.9s\n",
            "[CV 2/3] END ..........C=1.0, coef0=2, degree=4;, score=0.955 total time=  15.8s\n",
            "[CV 3/3] END ..........C=1.0, coef0=2, degree=4;, score=0.956 total time=  16.5s\n",
            "[CV 1/3] END ..........C=1.0, coef0=2, degree=5;, score=0.966 total time=  17.0s\n",
            "[CV 2/3] END ..........C=1.0, coef0=2, degree=5;, score=0.963 total time=  17.7s\n",
            "[CV 3/3] END ..........C=1.0, coef0=2, degree=5;, score=0.964 total time=  16.8s\n",
            "[CV 1/3] END .........C=10.0, coef0=0, degree=2;, score=0.948 total time=  16.7s\n",
            "[CV 2/3] END .........C=10.0, coef0=0, degree=2;, score=0.946 total time=  17.1s\n",
            "[CV 3/3] END .........C=10.0, coef0=0, degree=2;, score=0.951 total time=  16.7s\n",
            "[CV 1/3] END .........C=10.0, coef0=0, degree=3;, score=0.845 total time=  23.1s\n",
            "[CV 2/3] END .........C=10.0, coef0=0, degree=3;, score=0.848 total time=  23.1s\n",
            "[CV 3/3] END .........C=10.0, coef0=0, degree=3;, score=0.853 total time=  23.2s\n",
            "[CV 1/3] END .........C=10.0, coef0=0, degree=4;, score=0.411 total time=  30.1s\n",
            "[CV 2/3] END .........C=10.0, coef0=0, degree=4;, score=0.378 total time=  30.5s\n",
            "[CV 3/3] END .........C=10.0, coef0=0, degree=4;, score=0.399 total time=  29.9s\n",
            "[CV 1/3] END .........C=10.0, coef0=0, degree=5;, score=0.122 total time=  31.4s\n",
            "[CV 2/3] END .........C=10.0, coef0=0, degree=5;, score=0.118 total time=  31.5s\n",
            "[CV 3/3] END .........C=10.0, coef0=0, degree=5;, score=0.116 total time=  31.4s\n",
            "[CV 1/3] END .......C=10.0, coef0=0.5, degree=2;, score=0.950 total time=  16.1s\n",
            "[CV 2/3] END .......C=10.0, coef0=0.5, degree=2;, score=0.948 total time=  15.5s\n",
            "[CV 3/3] END .......C=10.0, coef0=0.5, degree=2;, score=0.951 total time=  15.5s\n",
            "[CV 1/3] END .......C=10.0, coef0=0.5, degree=3;, score=0.956 total time=  16.5s\n",
            "[CV 2/3] END .......C=10.0, coef0=0.5, degree=3;, score=0.954 total time=  15.4s\n",
            "[CV 3/3] END .......C=10.0, coef0=0.5, degree=3;, score=0.956 total time=  15.4s\n",
            "[CV 1/3] END .......C=10.0, coef0=0.5, degree=4;, score=0.957 total time=  16.2s\n",
            "[CV 2/3] END .......C=10.0, coef0=0.5, degree=4;, score=0.955 total time=  15.4s\n",
            "[CV 3/3] END .......C=10.0, coef0=0.5, degree=4;, score=0.958 total time=  15.4s\n",
            "[CV 1/3] END .......C=10.0, coef0=0.5, degree=5;, score=0.957 total time=  15.6s\n",
            "[CV 2/3] END .......C=10.0, coef0=0.5, degree=5;, score=0.955 total time=  15.9s\n",
            "[CV 3/3] END .......C=10.0, coef0=0.5, degree=5;, score=0.958 total time=  15.6s\n",
            "[CV 1/3] END .........C=10.0, coef0=1, degree=2;, score=0.949 total time=  15.8s\n",
            "[CV 2/3] END .........C=10.0, coef0=1, degree=2;, score=0.948 total time=  16.4s\n",
            "[CV 3/3] END .........C=10.0, coef0=1, degree=2;, score=0.950 total time=  15.6s\n",
            "[CV 1/3] END .........C=10.0, coef0=1, degree=3;, score=0.959 total time=  15.8s\n",
            "[CV 2/3] END .........C=10.0, coef0=1, degree=3;, score=0.958 total time=  16.5s\n",
            "[CV 3/3] END .........C=10.0, coef0=1, degree=3;, score=0.959 total time=  15.7s\n",
            "[CV 1/3] END .........C=10.0, coef0=1, degree=4;, score=0.966 total time=  16.0s\n",
            "[CV 2/3] END .........C=10.0, coef0=1, degree=4;, score=0.964 total time=  16.5s\n",
            "[CV 3/3] END .........C=10.0, coef0=1, degree=4;, score=0.965 total time=  16.0s\n",
            "[CV 1/3] END .........C=10.0, coef0=1, degree=5;, score=0.970 total time=  16.2s\n",
            "[CV 2/3] END .........C=10.0, coef0=1, degree=5;, score=0.968 total time=  16.3s\n",
            "[CV 3/3] END .........C=10.0, coef0=1, degree=5;, score=0.968 total time=  16.1s\n",
            "[CV 1/3] END .........C=10.0, coef0=2, degree=2;, score=0.948 total time=  16.2s\n",
            "[CV 2/3] END .........C=10.0, coef0=2, degree=2;, score=0.946 total time=  16.3s\n",
            "[CV 3/3] END .........C=10.0, coef0=2, degree=2;, score=0.950 total time=  16.1s\n",
            "[CV 1/3] END .........C=10.0, coef0=2, degree=3;, score=0.960 total time=  18.8s\n",
            "[CV 2/3] END .........C=10.0, coef0=2, degree=3;, score=0.957 total time=  17.8s\n",
            "[CV 3/3] END .........C=10.0, coef0=2, degree=3;, score=0.959 total time=  18.4s\n",
            "[CV 1/3] END .........C=10.0, coef0=2, degree=4;, score=0.967 total time=  19.7s\n",
            "[CV 2/3] END .........C=10.0, coef0=2, degree=4;, score=0.964 total time=  19.8s\n",
            "[CV 3/3] END .........C=10.0, coef0=2, degree=4;, score=0.965 total time=  20.4s\n",
            "[CV 1/3] END .........C=10.0, coef0=2, degree=5;, score=0.968 total time=  19.7s\n",
            "[CV 2/3] END .........C=10.0, coef0=2, degree=5;, score=0.965 total time=  19.6s\n",
            "[CV 3/3] END .........C=10.0, coef0=2, degree=5;, score=0.967 total time=  20.5s\n",
            "[CV 1/3] END ........C=100.0, coef0=0, degree=2;, score=0.972 total time=  15.1s\n",
            "[CV 2/3] END ........C=100.0, coef0=0, degree=2;, score=0.972 total time=  15.0s\n",
            "[CV 3/3] END ........C=100.0, coef0=0, degree=2;, score=0.972 total time=  15.1s\n",
            "[CV 1/3] END ........C=100.0, coef0=0, degree=3;, score=0.943 total time=  17.6s\n",
            "[CV 2/3] END ........C=100.0, coef0=0, degree=3;, score=0.942 total time=  17.3s\n",
            "[CV 3/3] END ........C=100.0, coef0=0, degree=3;, score=0.947 total time=  17.6s\n",
            "[CV 1/3] END ........C=100.0, coef0=0, degree=4;, score=0.764 total time=  24.8s\n",
            "[CV 2/3] END ........C=100.0, coef0=0, degree=4;, score=0.764 total time=  24.3s\n",
            "[CV 3/3] END ........C=100.0, coef0=0, degree=4;, score=0.765 total time=  24.2s\n",
            "[CV 1/3] END ........C=100.0, coef0=0, degree=5;, score=0.345 total time=  29.8s\n",
            "[CV 2/3] END ........C=100.0, coef0=0, degree=5;, score=0.337 total time=  30.9s\n",
            "[CV 3/3] END ........C=100.0, coef0=0, degree=5;, score=0.316 total time=  29.6s\n",
            "[CV 1/3] END ......C=100.0, coef0=0.5, degree=2;, score=0.966 total time=  17.5s\n",
            "[CV 2/3] END ......C=100.0, coef0=0.5, degree=2;, score=0.963 total time=  17.1s\n",
            "[CV 3/3] END ......C=100.0, coef0=0.5, degree=2;, score=0.964 total time=  17.3s\n",
            "[CV 1/3] END ......C=100.0, coef0=0.5, degree=3;, score=0.972 total time=  16.7s\n",
            "[CV 2/3] END ......C=100.0, coef0=0.5, degree=3;, score=0.968 total time=  17.6s\n",
            "[CV 3/3] END ......C=100.0, coef0=0.5, degree=3;, score=0.970 total time=  16.5s\n",
            "[CV 1/3] END ......C=100.0, coef0=0.5, degree=4;, score=0.974 total time=  16.1s\n",
            "[CV 2/3] END ......C=100.0, coef0=0.5, degree=4;, score=0.970 total time=  16.6s\n",
            "[CV 3/3] END ......C=100.0, coef0=0.5, degree=4;, score=0.972 total time=  16.0s\n",
            "[CV 1/3] END ......C=100.0, coef0=0.5, degree=5;, score=0.975 total time=  15.7s\n",
            "[CV 2/3] END ......C=100.0, coef0=0.5, degree=5;, score=0.971 total time=  16.4s\n",
            "[CV 3/3] END ......C=100.0, coef0=0.5, degree=5;, score=0.972 total time=  15.6s\n",
            "[CV 1/3] END ........C=100.0, coef0=1, degree=2;, score=0.963 total time=  20.1s\n",
            "[CV 2/3] END ........C=100.0, coef0=1, degree=2;, score=0.959 total time=  19.1s\n",
            "[CV 3/3] END ........C=100.0, coef0=1, degree=2;, score=0.962 total time=  19.2s\n",
            "[CV 1/3] END ........C=100.0, coef0=1, degree=3;, score=0.969 total time=  19.1s\n",
            "[CV 2/3] END ........C=100.0, coef0=1, degree=3;, score=0.966 total time=  19.0s\n",
            "[CV 3/3] END ........C=100.0, coef0=1, degree=3;, score=0.967 total time=  19.7s\n",
            "[CV 1/3] END ........C=100.0, coef0=1, degree=4;, score=0.971 total time=  18.2s\n",
            "[CV 2/3] END ........C=100.0, coef0=1, degree=4;, score=0.968 total time=  18.4s\n",
            "[CV 3/3] END ........C=100.0, coef0=1, degree=4;, score=0.969 total time=  18.3s\n",
            "[CV 1/3] END ........C=100.0, coef0=1, degree=5;, score=0.973 total time=  17.8s\n",
            "[CV 2/3] END ........C=100.0, coef0=1, degree=5;, score=0.969 total time=  17.6s\n",
            "[CV 3/3] END ........C=100.0, coef0=1, degree=5;, score=0.970 total time=  18.0s\n",
            "[CV 1/3] END ........C=100.0, coef0=2, degree=2;, score=0.958 total time=  23.5s\n",
            "[CV 2/3] END ........C=100.0, coef0=2, degree=2;, score=0.955 total time=  23.4s\n",
            "[CV 3/3] END ........C=100.0, coef0=2, degree=2;, score=0.957 total time=  23.3s\n",
            "[CV 1/3] END ........C=100.0, coef0=2, degree=3;, score=0.961 total time=  23.0s\n",
            "[CV 2/3] END ........C=100.0, coef0=2, degree=3;, score=0.961 total time=  22.7s\n",
            "[CV 3/3] END ........C=100.0, coef0=2, degree=3;, score=0.962 total time=  23.0s\n",
            "[CV 1/3] END ........C=100.0, coef0=2, degree=4;, score=0.964 total time=  21.2s\n",
            "[CV 2/3] END ........C=100.0, coef0=2, degree=4;, score=0.964 total time=  20.9s\n",
            "[CV 3/3] END ........C=100.0, coef0=2, degree=4;, score=0.965 total time=  21.9s\n",
            "[CV 1/3] END ........C=100.0, coef0=2, degree=5;, score=0.967 total time=  19.9s\n",
            "[CV 2/3] END ........C=100.0, coef0=2, degree=5;, score=0.966 total time=  19.8s\n",
            "[CV 3/3] END ........C=100.0, coef0=2, degree=5;, score=0.966 total time=  20.8s\n",
            "[CV 1/3] END .......C=1000.0, coef0=0, degree=2;, score=0.978 total time=  15.5s\n",
            "[CV 2/3] END .......C=1000.0, coef0=0, degree=2;, score=0.975 total time=  15.5s\n",
            "[CV 3/3] END .......C=1000.0, coef0=0, degree=2;, score=0.976 total time=  16.2s\n",
            "[CV 1/3] END .......C=1000.0, coef0=0, degree=3;, score=0.972 total time=  15.1s\n",
            "[CV 2/3] END .......C=1000.0, coef0=0, degree=3;, score=0.970 total time=  15.2s\n",
            "[CV 3/3] END .......C=1000.0, coef0=0, degree=3;, score=0.972 total time=  15.1s\n",
            "[CV 1/3] END .......C=1000.0, coef0=0, degree=4;, score=0.915 total time=  18.3s\n",
            "[CV 2/3] END .......C=1000.0, coef0=0, degree=4;, score=0.914 total time=  18.0s\n",
            "[CV 3/3] END .......C=1000.0, coef0=0, degree=4;, score=0.918 total time=  18.4s\n",
            "[CV 1/3] END .......C=1000.0, coef0=0, degree=5;, score=0.680 total time=  24.7s\n",
            "[CV 2/3] END .......C=1000.0, coef0=0, degree=5;, score=0.676 total time=  24.4s\n",
            "[CV 3/3] END .......C=1000.0, coef0=0, degree=5;, score=0.676 total time=  24.4s\n",
            "[CV 1/3] END .....C=1000.0, coef0=0.5, degree=2;, score=0.967 total time=  20.3s\n",
            "[CV 2/3] END .....C=1000.0, coef0=0.5, degree=2;, score=0.965 total time=  19.9s\n",
            "[CV 3/3] END .....C=1000.0, coef0=0.5, degree=2;, score=0.967 total time=  20.2s\n",
            "[CV 1/3] END .....C=1000.0, coef0=0.5, degree=3;, score=0.972 total time=  18.9s\n",
            "[CV 2/3] END .....C=1000.0, coef0=0.5, degree=3;, score=0.969 total time=  17.7s\n",
            "[CV 3/3] END .....C=1000.0, coef0=0.5, degree=3;, score=0.970 total time=  18.7s\n",
            "[CV 1/3] END .....C=1000.0, coef0=0.5, degree=4;, score=0.974 total time=  16.9s\n",
            "[CV 2/3] END .....C=1000.0, coef0=0.5, degree=4;, score=0.971 total time=  17.4s\n",
            "[CV 3/3] END .....C=1000.0, coef0=0.5, degree=4;, score=0.972 total time=  16.8s\n",
            "[CV 1/3] END .....C=1000.0, coef0=0.5, degree=5;, score=0.975 total time=  16.5s\n",
            "[CV 2/3] END .....C=1000.0, coef0=0.5, degree=5;, score=0.972 total time=  17.0s\n",
            "[CV 3/3] END .....C=1000.0, coef0=0.5, degree=5;, score=0.973 total time=  16.4s\n",
            "[CV 1/3] END .......C=1000.0, coef0=1, degree=2;, score=0.961 total time=  23.6s\n",
            "[CV 2/3] END .......C=1000.0, coef0=1, degree=2;, score=0.961 total time=  23.1s\n",
            "[CV 3/3] END .......C=1000.0, coef0=1, degree=2;, score=0.962 total time=  23.4s\n",
            "[CV 1/3] END .......C=1000.0, coef0=1, degree=3;, score=0.967 total time=  21.0s\n",
            "[CV 2/3] END .......C=1000.0, coef0=1, degree=3;, score=0.966 total time=  19.7s\n",
            "[CV 3/3] END .......C=1000.0, coef0=1, degree=3;, score=0.966 total time=  19.9s\n",
            "[CV 1/3] END .......C=1000.0, coef0=1, degree=4;, score=0.970 total time=  19.5s\n",
            "[CV 2/3] END .......C=1000.0, coef0=1, degree=4;, score=0.968 total time=  18.4s\n",
            "[CV 3/3] END .......C=1000.0, coef0=1, degree=4;, score=0.969 total time=  19.0s\n",
            "[CV 1/3] END .......C=1000.0, coef0=1, degree=5;, score=0.972 total time=  17.7s\n",
            "[CV 2/3] END .......C=1000.0, coef0=1, degree=5;, score=0.969 total time=  18.3s\n",
            "[CV 3/3] END .......C=1000.0, coef0=1, degree=5;, score=0.970 total time=  17.5s\n",
            "[CV 1/3] END .......C=1000.0, coef0=2, degree=2;, score=0.955 total time=  30.0s\n",
            "[CV 2/3] END .......C=1000.0, coef0=2, degree=2;, score=0.954 total time=  28.4s\n",
            "[CV 3/3] END .......C=1000.0, coef0=2, degree=2;, score=0.957 total time=  28.4s\n",
            "[CV 1/3] END .......C=1000.0, coef0=2, degree=3;, score=0.960 total time=  23.6s\n",
            "[CV 2/3] END .......C=1000.0, coef0=2, degree=3;, score=0.961 total time=  23.3s\n",
            "[CV 3/3] END .......C=1000.0, coef0=2, degree=3;, score=0.961 total time=  23.1s\n",
            "[CV 1/3] END .......C=1000.0, coef0=2, degree=4;, score=0.964 total time=  21.2s\n",
            "[CV 2/3] END .......C=1000.0, coef0=2, degree=4;, score=0.964 total time=  21.0s\n",
            "[CV 3/3] END .......C=1000.0, coef0=2, degree=4;, score=0.965 total time=  21.6s\n",
            "[CV 1/3] END .......C=1000.0, coef0=2, degree=5;, score=0.967 total time=  19.8s\n",
            "[CV 2/3] END .......C=1000.0, coef0=2, degree=5;, score=0.966 total time=  19.8s\n",
            "[CV 3/3] END .......C=1000.0, coef0=2, degree=5;, score=0.966 total time=  20.3s\n",
            "Best Parameters: {'C': np.float64(1000.0), 'coef0': 0, 'degree': 2}\n",
            "Best Accuracy: 0.9763999999999999\n"
          ]
        }
      ],
      "source": [
        "from sklearn.model_selection import GridSearchCV\n",
        "from thundersvm import SVC\n",
        "\n",
        "\n",
        "# Define hyperparameter grid for Polynomial Kernel SVM\n",
        "param_grid_poly = {\n",
        "    'C': np.logspace(-3, 3, 7),\n",
        "    'degree': [2, 3, 4, 5],\n",
        "    'coef0': [0, 0.5, 1, 2]\n",
        "}\n",
        "\n",
        "# Perform Grid Search for Polynomial Kernel SVM\n",
        "grid_poly = GridSearchCV(SVC(kernel='polynomial'), param_grid_poly, cv=3, scoring='accuracy', verbose=3)\n",
        "grid_poly.fit(X_train, y_train)\n",
        "\n",
        "# Print best parameters\n",
        "print(\"Best Parameters:\", grid_poly.best_params_)\n",
        "print(\"Best Accuracy:\", grid_poly.best_score_)"
      ]
    },
    {
      "cell_type": "code",
      "execution_count": null,
      "metadata": {
        "execution": {
          "iopub.execute_input": "2025-03-31T04:16:06.082807Z",
          "iopub.status.busy": "2025-03-31T04:16:06.082477Z",
          "iopub.status.idle": "2025-03-31T04:16:37.301677Z",
          "shell.execute_reply": "2025-03-31T04:16:37.300796Z",
          "shell.execute_reply.started": "2025-03-31T04:16:06.08278Z"
        },
        "id": "C_Uy9Ps0gLUn",
        "outputId": "40a9a6f6-7e4f-4cd7-af1d-14dc47c79b48",
        "trusted": true
      },
      "outputs": [
        {
          "name": "stdout",
          "output_type": "stream",
          "text": [
            "Accuracy: 0.9803\n"
          ]
        }
      ],
      "source": [
        "from thundersvm import SVC\n",
        "\n",
        "# Initialize the SVM classifier with an Polynomial kernel\n",
        "model = SVC(kernel='polynomial', C=1000, coef0=0, degree=2)\n",
        "\n",
        "# Train the model\n",
        "model.fit(X_train, y_train)\n",
        "\n",
        "\n",
        "# Check test set accuracy\n",
        "accuracy = model.score(X_test, y_test)\n",
        "\n",
        "print('Accuracy: {}'.format(accuracy))"
      ]
    },
    {
      "cell_type": "markdown",
      "metadata": {
        "id": "euQpk2zAgLUn"
      },
      "source": [
        "## SVM + Linear kernel"
      ]
    },
    {
      "cell_type": "code",
      "execution_count": null,
      "metadata": {
        "execution": {
          "iopub.execute_input": "2025-03-31T04:16:58.781099Z",
          "iopub.status.busy": "2025-03-31T04:16:58.7808Z",
          "iopub.status.idle": "2025-03-31T09:15:40.657968Z",
          "shell.execute_reply": "2025-03-31T09:15:40.656893Z",
          "shell.execute_reply.started": "2025-03-31T04:16:58.781074Z"
        },
        "id": "3xW7G7d-gLUo",
        "outputId": "e73ee027-5252-4a21-ec3c-ad528f734aba",
        "trusted": true
      },
      "outputs": [
        {
          "name": "stdout",
          "output_type": "stream",
          "text": [
            "Fitting 3 folds for each of 7 candidates, totalling 21 fits\n",
            "[CV 1/3] END ...........................C=0.001;, score=0.921 total time=  26.9s\n",
            "[CV 2/3] END ...........................C=0.001;, score=0.917 total time=  24.1s\n",
            "[CV 3/3] END ...........................C=0.001;, score=0.921 total time=  23.9s\n",
            "[CV 1/3] END ............................C=0.01;, score=0.937 total time=  19.4s\n",
            "[CV 2/3] END ............................C=0.01;, score=0.935 total time=  17.9s\n",
            "[CV 3/3] END ............................C=0.01;, score=0.938 total time=  18.4s\n",
            "[CV 1/3] END .............C=0.09999999999999999;, score=0.940 total time=  20.0s\n",
            "[CV 2/3] END .............C=0.09999999999999999;, score=0.938 total time=  23.2s\n",
            "[CV 3/3] END .............C=0.09999999999999999;, score=0.941 total time=  23.4s\n",
            "[CV 1/3] END .............................C=1.0;, score=0.931 total time=  37.6s\n",
            "[CV 2/3] END .............................C=1.0;, score=0.932 total time=  36.9s\n",
            "[CV 3/3] END .............................C=1.0;, score=0.933 total time=  39.1s\n",
            "[CV 1/3] END ............................C=10.0;, score=0.919 total time= 2.1min\n",
            "[CV 2/3] END ............................C=10.0;, score=0.920 total time= 2.1min\n",
            "[CV 3/3] END ............................C=10.0;, score=0.921 total time= 1.8min\n",
            "[CV 1/3] END ...........................C=100.0;, score=0.914 total time=11.6min\n",
            "[CV 2/3] END ...........................C=100.0;, score=0.916 total time=13.1min\n",
            "[CV 3/3] END ...........................C=100.0;, score=0.913 total time= 9.5min\n",
            "[CV 1/3] END ..........................C=1000.0;, score=0.911 total time=81.7min\n",
            "[CV 2/3] END .........................C=1000.0;, score=0.911 total time=103.4min\n",
            "[CV 3/3] END ..........................C=1000.0;, score=0.911 total time=67.5min\n",
            "Best Parameters: {'C': 0.09999999999999999}\n",
            "Best Accuracy: 0.9398666666666667\n"
          ]
        }
      ],
      "source": [
        "from sklearn.model_selection import GridSearchCV\n",
        "from thundersvm import SVC\n",
        "\n",
        "# Define hyperparameter grid for Linear SVM\n",
        "param_grid_linear = {'C': np.logspace(-3, 3, 7)}\n",
        "\n",
        "\n",
        "# Perform Grid Search for Linear SVM\n",
        "grid_linear = GridSearchCV(SVC(kernel='linear'), param_grid_linear, cv=3, scoring='accuracy', verbose=3)\n",
        "grid_linear.fit(X_train, y_train)\n",
        "best_curr_C_linear = grid_linear.best_params_['C']\n",
        "\n",
        "# Print best parameters\n",
        "print(\"Best Parameters:\", grid_linear.best_params_)\n",
        "print(\"Best Accuracy:\", grid_linear.best_score_)"
      ]
    },
    {
      "cell_type": "code",
      "execution_count": null,
      "metadata": {
        "execution": {
          "iopub.execute_input": "2025-03-31T10:43:12.646958Z",
          "iopub.status.busy": "2025-03-31T10:43:12.646654Z",
          "iopub.status.idle": "2025-03-31T10:43:49.879416Z",
          "shell.execute_reply": "2025-03-31T10:43:49.878655Z",
          "shell.execute_reply.started": "2025-03-31T10:43:12.646936Z"
        },
        "id": "uaxSa3EegLUo",
        "outputId": "587e4724-fe93-4056-e96a-18874a40ee26",
        "trusted": true
      },
      "outputs": [
        {
          "name": "stdout",
          "output_type": "stream",
          "text": [
            "Accuracy: 0.9469\n"
          ]
        }
      ],
      "source": [
        "from thundersvm import SVC\n",
        "\n",
        "# Initialize the SVM classifier with an RBF kernel\n",
        "model = SVC(kernel='linear', C=0.1)\n",
        "\n",
        "# Train the model\n",
        "model.fit(X_train, y_train)\n",
        "\n",
        "\n",
        "# Check test set accuracy\n",
        "accuracy = model.score(X_test, y_test)\n",
        "\n",
        "print('Accuracy: {}'.format(accuracy))"
      ]
    }
  ],
  "metadata": {
    "colab": {
      "collapsed_sections": [
        "uPRZTzTIQfzK",
        "vEqo4QUahVb7"
      ],
      "provenance": [],
      "toc_visible": true
    },
    "kernelspec": {
      "display_name": "Python 3",
      "name": "python3"
    },
    "language_info": {
      "name": "python"
    }
  },
  "nbformat": 4,
  "nbformat_minor": 0
}
